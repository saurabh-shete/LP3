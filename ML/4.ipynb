{
  "nbformat": 4,
  "nbformat_minor": 0,
  "metadata": {
    "colab": {
      "provenance": []
    },
    "kernelspec": {
      "name": "python3",
      "display_name": "Python 3"
    },
    "language_info": {
      "name": "python"
    }
  },
  "cells": [
    {
      "cell_type": "code",
      "execution_count": 17,
      "metadata": {
        "id": "yUNZSRtZrfX1"
      },
      "outputs": [],
      "source": [
        "def objective(x):\n",
        "  return (x+3)**2\n"
      ]
    },
    {
      "cell_type": "code",
      "source": [
        "def derivative(x):\n",
        "  return 2*(x+3)\n",
        ""
      ],
      "metadata": {
        "id": "OHJRy2UcrqSV"
      },
      "execution_count": 18,
      "outputs": []
    },
    {
      "cell_type": "code",
      "source": [
        "def gradient(alpha,start,max_iter):\n",
        "    x_list=list()\n",
        "    x=start\n",
        "    x_list.append(x)\n",
        "    for i in range(max_iter):\n",
        "      grad=derivative(x);\n",
        "      x=x-(grad*alpha)\n",
        "      x_list.append(x)\n",
        "    return x_list"
      ],
      "metadata": {
        "id": "Jcanm5JFrw56"
      },
      "execution_count": 38,
      "outputs": []
    },
    {
      "cell_type": "code",
      "source": [
        "import sympy as smp"
      ],
      "metadata": {
        "id": "fPXMPbfpsigA"
      },
      "execution_count": 39,
      "outputs": []
    },
    {
      "cell_type": "code",
      "source": [
        "x=smp.Symbol('x')\n",
        "expr=(x+3)**2"
      ],
      "metadata": {
        "id": "5e784Spusljs"
      },
      "execution_count": 40,
      "outputs": []
    },
    {
      "cell_type": "code",
      "source": [
        "der=smp.Derivative(expr,x)"
      ],
      "metadata": {
        "id": "UPdo4yKBspSq"
      },
      "execution_count": 41,
      "outputs": []
    },
    {
      "cell_type": "code",
      "source": [
        "der.doit()"
      ],
      "metadata": {
        "colab": {
          "base_uri": "https://localhost:8080/",
          "height": 39
        },
        "id": "K2xnLFats1ko",
        "outputId": "b70c7632-3be0-4b26-b785-9906eea179cd"
      },
      "execution_count": 42,
      "outputs": [
        {
          "output_type": "execute_result",
          "data": {
            "text/plain": [
              "2*x + 6"
            ],
            "text/latex": "$\\displaystyle 2 x + 6$"
          },
          "metadata": {},
          "execution_count": 42
        }
      ]
    },
    {
      "cell_type": "code",
      "source": [
        "der.doit().subs(x,2)"
      ],
      "metadata": {
        "colab": {
          "base_uri": "https://localhost:8080/",
          "height": 37
        },
        "id": "9n9qE3L8s3rC",
        "outputId": "18d3fc06-8397-43ed-ac1b-9f55675876fa"
      },
      "execution_count": 43,
      "outputs": [
        {
          "output_type": "execute_result",
          "data": {
            "text/plain": [
              "10"
            ],
            "text/latex": "$\\displaystyle 10$"
          },
          "metadata": {},
          "execution_count": 43
        }
      ]
    },
    {
      "cell_type": "code",
      "source": [
        "import matplotlib.pyplot as plt\n",
        "import numpy as np"
      ],
      "metadata": {
        "id": "wP_-N6ics7WQ"
      },
      "execution_count": 44,
      "outputs": []
    },
    {
      "cell_type": "code",
      "source": [
        "x1=np.linspace(-15,15,100)"
      ],
      "metadata": {
        "id": "BZdDgYYItIFX"
      },
      "execution_count": 45,
      "outputs": []
    },
    {
      "cell_type": "code",
      "source": [],
      "metadata": {
        "id": "HFPHedmGtLDD"
      },
      "execution_count": 45,
      "outputs": []
    },
    {
      "cell_type": "code",
      "source": [
        "plt.plot(x1,objective(x1))\n",
        "plt.plot(2,objective(2),marker='o')"
      ],
      "metadata": {
        "colab": {
          "base_uri": "https://localhost:8080/",
          "height": 447
        },
        "id": "e1wlvYWYtor8",
        "outputId": "e2409d1c-177c-455f-a2f1-4b989940acd5"
      },
      "execution_count": 46,
      "outputs": [
        {
          "output_type": "execute_result",
          "data": {
            "text/plain": [
              "[<matplotlib.lines.Line2D at 0x7cd270d8b700>]"
            ]
          },
          "metadata": {},
          "execution_count": 46
        },
        {
          "output_type": "display_data",
          "data": {
            "text/plain": [
              "<Figure size 640x480 with 1 Axes>"
            ],
            "image/png": "[encoded data removed]"
          },
          "metadata": {}
        }
      ]
    },
    {
      "cell_type": "code",
      "source": [
        "start=2\n",
        "alpha=0.1\n",
        "max_iter=30\n"
      ],
      "metadata": {
        "id": "i-o7BOpatz7G"
      },
      "execution_count": 47,
      "outputs": []
    },
    {
      "cell_type": "code",
      "source": [
        "x1=np.linspace(-5,5,100)\n",
        "plt.plot(x1,objective(x1))\n",
        "\n",
        "grad_x=np.array(gradient(alpha,start,max_iter))\n",
        "plt.plot(grad_x,objective(grad_x),marker='o')\n",
        "plt.plot(grad_x[-1],objective(grad_x[-1]),marker='o',color='green')\n"
      ],
      "metadata": {
        "colab": {
          "base_uri": "https://localhost:8080/",
          "height": 447
        },
        "id": "qDHHbAlbuUhn",
        "outputId": "b6bca257-3f78-4f54-a57e-8444cb8c3626"
      },
      "execution_count": 52,
      "outputs": [
        {
          "output_type": "execute_result",
          "data": {
            "text/plain": [
              "[<matplotlib.lines.Line2D at 0x7cd263036260>]"
            ]
          },
          "metadata": {},
          "execution_count": 52
        },
        {
          "output_type": "display_data",
          "data": {
            "text/plain": [
              "<Figure size 640x480 with 1 Axes>"
            ],
            "image/png": "[encoded data removed]"
          },
          "metadata": {}
        }
      ]
    },
    {
      "cell_type": "code",
      "source": [],
      "metadata": {
        "id": "5dMexzxFulz_"
      },
      "execution_count": 48,
      "outputs": []
    }
  ]
}